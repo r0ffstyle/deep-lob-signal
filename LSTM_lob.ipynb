{
 "cells": [
  {
   "cell_type": "markdown",
   "metadata": {},
   "source": [
    "### **LSTM Model for Predicting Price Movements on LOB Data**\n",
    "\n",
    "In this notebook, we train an LSTM neural network on HyperLiquid Ethereum limit order book data to predict price movements."
   ]
  },
  {
   "cell_type": "code",
   "execution_count": 1,
   "metadata": {},
   "outputs": [],
   "source": [
    "import numpy as np\n",
    "import pandas as pd\n",
    "import seaborn as sns\n",
    "import matplotlib.pyplot as plt\n",
    "\n",
    "from sklearn.svm import SVC\n",
    "from sklearn.preprocessing import StandardScaler\n",
    "from sklearn.linear_model import LogisticRegression, RidgeClassifier\n",
    "from sklearn.metrics import classification_report, confusion_matrix, accuracy_score\n",
    "\n",
    "import tensorflow as tf\n",
    "from tensorflow.keras.models import Sequential\n",
    "from tensorflow.keras.layers import LSTM, Dense, Dropout\n",
    "from tensorflow.keras.utils import to_categorical\n",
    "from tensorflow.keras.callbacks import EarlyStopping, ReduceLROnPlateau\n",
    "from sklearn.metrics import classification_report, confusion_matrix, accuracy_score\n",
    "import keras_tuner as kt\n",
    "\n",
    "import joblib\n",
    "\n",
    "import warnings\n",
    "warnings.filterwarnings('ignore')\n",
    "\n",
    "# For display purposes\n",
    "pd.set_option('display.expand_frame_repr', False)"
   ]
  },
  {
   "cell_type": "code",
   "execution_count": 3,
   "metadata": {},
   "outputs": [
    {
     "name": "stdout",
     "output_type": "stream",
     "text": [
      "LOB\n",
      "  coin                                             levels           time\n",
      "0  ETH  [[{'px': '2889.8', 'sz': '78.3793', 'n': 17}, ...  1731017421096\n",
      "1  ETH  [[{'px': '2889.8', 'sz': '78.3793', 'n': 17}, ...  1731017421096\n",
      "2  ETH  [[{'px': '2889.8', 'sz': '78.3793', 'n': 17}, ...  1731017421096\n",
      "3  ETH  [[{'px': '2889.8', 'sz': '78.3793', 'n': 17}, ...  1731017421096\n",
      "4  ETH  [[{'px': '2889.8', 'sz': '78.3793', 'n': 17}, ...  1731017421096\n",
      "\n",
      "Trades\n",
      "  coin side      px      sz           time                                               hash               tid\n",
      "0  ETH    B  2889.4  3.8707  1731017419162  0xd889db75c030f8231be004163e12ad0110001ce56e0c...  1023556703028983\n",
      "1  ETH    B  2889.4  3.8707  1731017419162  0xd889db75c030f8231be004163e12ad0110001ce56e0c...  1023556703028983\n",
      "2  ETH    B  2889.4  3.8707  1731017419162  0xd889db75c030f8231be004163e12ad0110001ce56e0c...  1023556703028983\n",
      "3  ETH    B  2889.4  3.8707  1731017419162  0xd889db75c030f8231be004163e12ad0110001ce56e0c...  1023556703028983\n",
      "4  ETH    B  2889.4  3.8707  1731017419162  0xd889db75c030f8231be004163e12ad0110001ce56e0c...  1023556703028983\n",
      "\n"
     ]
    }
   ],
   "source": [
    "# Load data\n",
    "ETH_book1 = pd.DataFrame(pd.read_pickle('C:/Users/trgrd/OneDrive/Trading/Projects/data_download/hyp_data/ETH/ETH_book_20241108.pkl'))\n",
    "ETH_book2 = pd.DataFrame(pd.read_pickle('C:/Users/trgrd/OneDrive/Trading/Projects/data_download/hyp_data/ETH/ETH_book_20241109.pkl'))\n",
    "ETH_book3 = pd.DataFrame(pd.read_pickle('C:/Users/trgrd/OneDrive/Trading/Projects/data_download/hyp_data/ETH/ETH_book_20241110.pkl'))\n",
    "ETH_trade1 = pd.DataFrame(pd.read_pickle('C:/Users/trgrd/OneDrive/Trading/Projects/data_download/hyp_data/ETH/ETH_trade_20241108.pkl'))\n",
    "ETH_trade2 = pd.DataFrame(pd.read_pickle('C:/Users/trgrd/OneDrive/Trading/Projects/data_download/hyp_data/ETH/ETH_trade_20241109.pkl'))\n",
    "ETH_trade3 = pd.DataFrame(pd.read_pickle('C:/Users/trgrd/OneDrive/Trading/Projects/data_download/hyp_data/ETH/ETH_trade_20241110.pkl'))\n",
    "\n",
    "ETH_book = pd.concat([ETH_book1, ETH_book2, ETH_book3], ignore_index=True)\n",
    "ETH_trades = pd.concat([ETH_trade1, ETH_trade2, ETH_trade3], ignore_index=True)\n",
    "\n",
    "# Inspect the structure of the data\n",
    "print(f\"LOB\\n{ETH_book.head()}\\n\")\n",
    "print(f\"Trades\\n{ETH_trades.head()}\\n\")"
   ]
  },
  {
   "cell_type": "code",
   "execution_count": 4,
   "metadata": {},
   "outputs": [],
   "source": [
    "LOB_LEVELS = 10\n",
    "bid_price_cols = [f'BidPrice_{i+1}' for i in range(LOB_LEVELS)]\n",
    "bid_volume_cols = [f'BidVolume_{i+1}' for i in range(LOB_LEVELS)]\n",
    "bid_orders_cols = [f'BidOrders_{i+1}' for i in range(LOB_LEVELS)]\n",
    "ask_price_cols = [f'AskPrice_{i+1}' for i in range(LOB_LEVELS)]\n",
    "ask_volume_cols = [f'AskVolume_{i+1}' for i in range(LOB_LEVELS)]\n",
    "ask_orders_cols = [f'AskOrders_{i+1}' for i in range(LOB_LEVELS)]"
   ]
  },
  {
   "cell_type": "code",
   "execution_count": 5,
   "metadata": {},
   "outputs": [
    {
     "name": "stdout",
     "output_type": "stream",
     "text": [
      "  coin           time  BidPrice_1  BidPrice_2  BidPrice_3  BidPrice_4  BidPrice_5  BidPrice_6  BidPrice_7  BidPrice_8  ...  AskOrders_4  AskOrders_5  AskOrders_6  AskOrders_7  AskOrders_8  AskOrders_9  AskOrders_10  MidPrice  MidPrice_Next  PriceMove\n",
      "0  ETH  1731017421096      2889.8      2889.7      2889.6      2889.5      2889.4      2889.3      2889.2      2889.1  ...            1            1            4            3            4            3             3   2889.85        2889.85          0\n",
      "1  ETH  1731017421096      2889.8      2889.7      2889.6      2889.5      2889.4      2889.3      2889.2      2889.1  ...            1            1            4            3            4            3             3   2889.85        2889.85          0\n",
      "2  ETH  1731017421096      2889.8      2889.7      2889.6      2889.5      2889.4      2889.3      2889.2      2889.1  ...            1            1            4            3            4            3             3   2889.85        2889.85          0\n",
      "3  ETH  1731017421096      2889.8      2889.7      2889.6      2889.5      2889.4      2889.3      2889.2      2889.1  ...            1            1            4            3            4            3             3   2889.85        2889.85          0\n",
      "4  ETH  1731017421096      2889.8      2889.7      2889.6      2889.5      2889.4      2889.3      2889.2      2889.1  ...            1            1            4            3            4            3             3   2889.85        2889.85          0\n",
      "\n",
      "[5 rows x 65 columns]\n"
     ]
    }
   ],
   "source": [
    "levels = ETH_book['levels'].tolist()\n",
    "bids = [row[0] for row in levels]\n",
    "asks = [row[1] for row in levels]\n",
    "\n",
    "def extract_prices_sizes_n(entries, levels=LOB_LEVELS):\n",
    "    px = [float(entry['px']) for entry in entries[:levels]]\n",
    "    sz = [float(entry['sz']) for entry in entries[:levels]]\n",
    "    n_orders = [int(entry['n']) for entry in entries[:levels]]\n",
    "    px += [np.nan]*(levels - len(px))\n",
    "    sz += [np.nan]*(levels - len(sz))\n",
    "    n_orders += [np.nan]*(levels - len(n_orders))\n",
    "    return px, sz, n_orders\n",
    "\n",
    "bid_px, bid_sz, bid_n = zip(*[extract_prices_sizes_n(bid) for bid in bids])\n",
    "ask_px, ask_sz, ask_n = zip(*[extract_prices_sizes_n(ask) for ask in asks])\n",
    "\n",
    "bid_px_df = pd.DataFrame(bid_px, columns=bid_price_cols)\n",
    "bid_sz_df = pd.DataFrame(bid_sz, columns=bid_volume_cols)\n",
    "bid_n_df = pd.DataFrame(bid_n, columns=bid_orders_cols)\n",
    "ask_px_df = pd.DataFrame(ask_px, columns=ask_price_cols)\n",
    "ask_sz_df = pd.DataFrame(ask_sz, columns=ask_volume_cols)\n",
    "ask_n_df = pd.DataFrame(ask_n, columns=ask_orders_cols)\n",
    "\n",
    "lob_expanded = pd.concat([bid_px_df, bid_sz_df, bid_n_df, ask_px_df, ask_sz_df, ask_n_df], axis=1)\n",
    "eth_book = pd.concat([ETH_book.drop(columns=['levels']).reset_index(drop=True), \n",
    "                      lob_expanded.reset_index(drop=True)], axis=1)\n",
    "\n",
    "eth_book['MidPrice'] = (eth_book['AskPrice_1'] + eth_book['BidPrice_1']) / 2\n",
    "eth_book['MidPrice_Next'] = eth_book['MidPrice'].shift(-1)\n",
    "eth_book['PriceMove'] = 0\n",
    "eth_book.loc[eth_book['MidPrice_Next'] > eth_book['MidPrice'], 'PriceMove'] = 1\n",
    "eth_book.loc[eth_book['MidPrice_Next'] < eth_book['MidPrice'], 'PriceMove'] = -1\n",
    "eth_book = eth_book.dropna(subset=['MidPrice_Next'])\n",
    "\n",
    "print(eth_book.head())"
   ]
  },
  {
   "cell_type": "markdown",
   "metadata": {},
   "source": [
    "## Feature Engineering"
   ]
  },
  {
   "cell_type": "code",
   "execution_count": 7,
   "metadata": {},
   "outputs": [],
   "source": [
    "# Imbalance features\n",
    "for level in range(1, LOB_LEVELS+1):\n",
    "    b_vol = eth_book[f'BidVolume_{level}']\n",
    "    a_vol = eth_book[f'AskVolume_{level}']\n",
    "    eth_book[f'Imbalance_{level}'] = (b_vol - a_vol) / (b_vol + a_vol)\n",
    "\n",
    "eth_book['Imbalance_Total'] = (eth_book[[f'BidVolume_{i}' for i in range(1, LOB_LEVELS+1)]].sum(axis=1) -\n",
    "    eth_book[[f'AskVolume_{i}' for i in range(1, LOB_LEVELS+1)]].sum(axis=1)\n",
    ") / (\n",
    "    eth_book[[f'BidVolume_{i}' for i in range(1, LOB_LEVELS+1)]].sum(axis=1) +\n",
    "    eth_book[[f'AskVolume_{i}' for i in range(1, LOB_LEVELS+1)]].sum(axis=1)\n",
    ")\n",
    "\n",
    "for level in range(1, LOB_LEVELS+1):\n",
    "    eth_book[f'BidOrders_{level}_Change'] = eth_book[f'BidOrders_{level}'].diff()\n",
    "    eth_book[f'AskOrders_{level}_Change'] = eth_book[f'AskOrders_{level}'].diff()"
   ]
  },
  {
   "cell_type": "markdown",
   "metadata": {},
   "source": [
    "### Trade data processing"
   ]
  },
  {
   "cell_type": "code",
   "execution_count": 8,
   "metadata": {},
   "outputs": [],
   "source": [
    "# Trade data processing\n",
    "ETH_trades['sz'] = ETH_trades['sz'].astype(float)\n",
    "ETH_trades['side'] = ETH_trades['side'].astype(str)\n",
    "ETH_trades['time'] = pd.to_datetime(ETH_trades['time'], unit='ms')\n",
    "eth_book.reset_index(inplace=True)\n",
    "eth_book['time'] = pd.to_datetime(eth_book['time'], unit='ms')\n",
    "\n",
    "ETH_trades.set_index('time', inplace=True)\n",
    "eth_book.set_index('time', inplace=True)\n",
    "\n",
    "eth_book.fillna(0, inplace=True)\n",
    "eth_book['BidArrivalRate'] = eth_book[[f'BidOrders_{i}_Change' for i in range(1, LOB_LEVELS+1)]].sum(axis=1)\n",
    "eth_book['AskArrivalRate'] = eth_book[[f'AskOrders_{i}_Change' for i in range(1, LOB_LEVELS+1)]].sum(axis=1)"
   ]
  },
  {
   "cell_type": "markdown",
   "metadata": {},
   "source": [
    "### Aggregate trade data"
   ]
  },
  {
   "cell_type": "code",
   "execution_count": 9,
   "metadata": {},
   "outputs": [],
   "source": [
    "# Aggregate trade data\n",
    "eth_book['TradeVolume_Buy'] = 0.0\n",
    "eth_book['TradeVolume_Sell'] = 0.0\n",
    "eth_book['NumTrades_Buy'] = 0\n",
    "eth_book['NumTrades_Sell'] = 0\n",
    "trade_resampled = ETH_trades.groupby('time').agg({'sz':'sum','side':lambda x: x.value_counts().to_dict()})\n",
    "eth_book = eth_book.merge(trade_resampled, left_index=True, right_index=True, how='left')\n",
    "eth_book['sz'].fillna(0, inplace=True)\n",
    "eth_book['side'] = eth_book['side'].apply(lambda x: {} if pd.isnull(x) else x)\n",
    "eth_book['TradeVolume_Buy'] = eth_book.apply(lambda row: row['sz'] if 'B' in row['side'] else 0, axis=1)\n",
    "eth_book['TradeVolume_Sell'] = eth_book.apply(lambda row: row['sz'] if 'S' in row['side'] else 0, axis=1)\n",
    "eth_book['NumTrades_Buy'] = eth_book['side'].apply(lambda x: x.get('B',0))\n",
    "eth_book['NumTrades_Sell'] = eth_book['side'].apply(lambda x: x.get('S',0))\n",
    "eth_book.drop(columns=['sz','side'], inplace=True)"
   ]
  },
  {
   "cell_type": "markdown",
   "metadata": {},
   "source": [
    "### Binance trade data"
   ]
  },
  {
   "cell_type": "code",
   "execution_count": 10,
   "metadata": {},
   "outputs": [],
   "source": [
    "# Binance data\n",
    "binance_trades1 = pd.read_csv('C:/Users/trgrd/OneDrive/Trading/Projects/data_download/Binance_data/ETHUSDT-trades-2024-11-08.csv', header=None)\n",
    "binance_trades2 = pd.read_csv('C:/Users/trgrd/OneDrive/Trading/Projects/data_download/Binance_data/ETHUSDT-trades-2024-11-09.csv', header=None)\n",
    "binance_trades3 = pd.read_csv('C:/Users/trgrd/OneDrive/Trading/Projects/data_download/Binance_data/ETHUSDT-trades-2024-11-10.csv', header=None)\n",
    "\n",
    "binance_trades = pd.concat([binance_trades1, binance_trades2, binance_trades3])\n",
    "binance_trades = binance_trades.rename(columns={0:'ID', 1:'Price', 2:'Quantity', 3:'Quote_Quantity', 4:'Time', 5:'Is_Buyer_Make', 6:'Ignore'})\n",
    "binance_trades['Time'] = pd.to_datetime(binance_trades['Time'], unit='ms')\n",
    "binance_trades.set_index('Time', inplace=True)\n",
    "\n",
    "threshold = binance_trades['Quantity'].quantile(0.95)\n",
    "binance_trades['LargeTrade'] = (binance_trades['Quantity'] >= threshold).astype(int)\n",
    "binance_agg = binance_trades.groupby('Time').agg({'Quantity':'sum','LargeTrade':'sum'})\n",
    "eth_book = eth_book.merge(binance_agg, how='left', left_index=True, right_index=True)\n",
    "eth_book['Quantity'].fillna(0, inplace=True)\n",
    "eth_book['LargeTrade'].fillna(0, inplace=True)\n",
    "eth_book.rename(columns={'Quantity':'BinanceTotalVolume','LargeTrade':'BinanceLargeTradeCount'}, inplace=True)"
   ]
  },
  {
   "cell_type": "code",
   "execution_count": 11,
   "metadata": {},
   "outputs": [],
   "source": [
    "# Aggregate volumes for LOB levels 3 to 10\n",
    "eth_book['AskVolume_3to10'] = eth_book[[f'AskVolume_{i}' for i in range(3, 11)]].sum(axis=1)\n",
    "eth_book['BidVolume_3to10'] = eth_book[[f'BidVolume_{i}' for i in range(3, 11)]].sum(axis=1)\n",
    "drop_cols = [f'AskVolume_{i}' for i in range(3, 11)] + [f'BidVolume_{i}' for i in range(3, 11)]\n",
    "eth_book.drop(columns=drop_cols, inplace=True)\n",
    "\n",
    "# Lag BinanceTotalVolume to avoid lookahead\n",
    "eth_book['Lagged_BinanceTotalVolume'] = eth_book['BinanceTotalVolume'].shift(1).fillna(0)\n",
    "eth_book['Lagged_BinanceLargeTradeCount'] = eth_book['BinanceLargeTradeCount'].shift(1).fillna(0)"
   ]
  },
  {
   "cell_type": "code",
   "execution_count": 12,
   "metadata": {},
   "outputs": [],
   "source": [
    "# Rolling aggregates & event flags\n",
    "window_sizes = [5, 20]  # Example windows: 5 ticks and 20 ticks\n",
    "for w in window_sizes:\n",
    "    eth_book[f'BinanceTotalVolume_rollingSum_{w}'] = (\n",
    "        eth_book['Lagged_BinanceTotalVolume'].rolling(window=w, min_periods=1).sum()\n",
    "    )\n",
    "    eth_book[f'BinanceLargeTradeCount_rollingSum_{w}'] = (\n",
    "        eth_book['Lagged_BinanceLargeTradeCount'].rolling(window=w, min_periods=1).sum()\n",
    "    )\n",
    "    # Event flags: Has there been a large trade in the last w ticks?\n",
    "    eth_book[f'LargeTrade_flag_{w}'] = (eth_book[f'BinanceLargeTradeCount_rollingSum_{w}'] > 0).astype(int)"
   ]
  },
  {
   "cell_type": "markdown",
   "metadata": {},
   "source": [
    "### Additional features"
   ]
  },
  {
   "cell_type": "code",
   "execution_count": 13,
   "metadata": {},
   "outputs": [],
   "source": [
    "# Spread and relative spread\n",
    "eth_book['Spread'] = eth_book['AskPrice_1'] - eth_book['BidPrice_1']\n",
    "eth_book['RelativeSpread'] = eth_book['Spread'] / eth_book['MidPrice']\n",
    "\n",
    "# Microprice\n",
    "eth_book['Microprice'] = (\n",
    "    eth_book['Imbalance_1']*eth_book['AskPrice_1'] + (1 - eth_book['Imbalance_1'])*eth_book['BidPrice_1']\n",
    ")\n",
    "\n",
    "# Volume-weighted average price for top level\n",
    "eth_book['VWAP'] = (eth_book['AskPrice_1']*eth_book['AskVolume_1'] + eth_book['BidPrice_1']*eth_book['BidVolume_1']) / (eth_book['AskVolume_1']+eth_book['BidVolume_1'])"
   ]
  },
  {
   "cell_type": "code",
   "execution_count": 14,
   "metadata": {},
   "outputs": [
    {
     "name": "stdout",
     "output_type": "stream",
     "text": [
      "Label distribution for a price movement of 0.001%\n",
      " SmoothedPriceMove\n",
      " 0    1230000\n",
      " 1     497791\n",
      "-1     487409\n",
      "Name: count, dtype: int64\n"
     ]
    }
   ],
   "source": [
    "S = 10\n",
    "alpha = 0.00001\n",
    "\n",
    "m_prev = eth_book['MidPrice'].rolling(window=S, min_periods=1).mean()\n",
    "m_next = eth_book['MidPrice'].shift(-S).rolling(window=S, min_periods=1).mean()\n",
    "\n",
    "# Smoothed prices\n",
    "lt = (m_next - m_prev) / m_prev\n",
    "\n",
    "# Define labels\n",
    "eth_book['SmoothedPriceMove'] = 0  # Default to neutral\n",
    "eth_book.loc[lt > alpha, 'SmoothedPriceMove'] = 1  # Up movement\n",
    "eth_book.loc[lt < -alpha, 'SmoothedPriceMove'] = -1  # Down movement\n",
    "\n",
    "# Check label distribution\n",
    "print(f\"Label distribution for a price movement of {alpha*100}%\\n\", eth_book['SmoothedPriceMove'].value_counts())"
   ]
  },
  {
   "cell_type": "markdown",
   "metadata": {},
   "source": [
    "### Prepare the features and scale the data"
   ]
  },
  {
   "cell_type": "code",
   "execution_count": 16,
   "metadata": {},
   "outputs": [
    {
     "name": "stdout",
     "output_type": "stream",
     "text": [
      "Total NaN values in the dataset: 0\n"
     ]
    }
   ],
   "source": [
    "target_col = 'SmoothedPriceMove'\n",
    "\n",
    "# Selected features\n",
    "feature_cols = [\n",
    "    'AskVolume_1', 'AskVolume_2', 'BidVolume_1', 'BidVolume_2',\n",
    "    'AskVolume_3to10', 'BidVolume_3to10',\n",
    "    'BidPrice_1','AskPrice_1','BidPrice_2','AskPrice_2',\n",
    "    'Imbalance_Total','BidArrivalRate','AskArrivalRate',\n",
    "    'TradeVolume_Buy','TradeVolume_Sell','NumTrades_Buy','NumTrades_Sell',\n",
    "    'BinanceLargeTradeCount','Spread','RelativeSpread','Microprice','VWAP',\n",
    "    'Lagged_BinanceTotalVolume','Lagged_BinanceLargeTradeCount'\n",
    "]\n",
    "\n",
    "# Add the new rolling sum and event flag features\n",
    "for w in window_sizes:\n",
    "    feature_cols.append(f'BinanceTotalVolume_rollingSum_{w}')\n",
    "    feature_cols.append(f'BinanceLargeTradeCount_rollingSum_{w}')\n",
    "    feature_cols.append(f'LargeTrade_flag_{w}')\n",
    "\n",
    "X = eth_book[feature_cols].fillna(0)\n",
    "y = eth_book[target_col]\n",
    "\n",
    "print(f\"Total NaN values in the dataset: {X.isna().sum().sum()}\")"
   ]
  },
  {
   "cell_type": "code",
   "execution_count": 17,
   "metadata": {},
   "outputs": [],
   "source": [
    "# Train-test split and scaling\n",
    "train_size = int(0.8 * len(X))\n",
    "X_train_raw, X_test_raw = X.iloc[:train_size], X.iloc[train_size:]\n",
    "y_train, y_test = y.iloc[:train_size], y.iloc[train_size:]\n",
    "\n",
    "scaler = StandardScaler()\n",
    "X_train_scaled = scaler.fit_transform(X_train_raw)\n",
    "X_test_scaled = scaler.transform(X_test_raw)"
   ]
  },
  {
   "cell_type": "markdown",
   "metadata": {},
   "source": [
    "## Baseline Models: Logistic \\& Ridge\n",
    "\n",
    "We start with simpler Logistic regression and Ridge classifier to establish a performance baseline."
   ]
  },
  {
   "cell_type": "code",
   "execution_count": 19,
   "metadata": {},
   "outputs": [
    {
     "name": "stdout",
     "output_type": "stream",
     "text": [
      "--- Evaluating Logistic Regression ---\n",
      "Classification Report:\n",
      "               precision    recall  f1-score   support\n",
      "\n",
      "          -1     0.6576    0.3325    0.4417    111249\n",
      "           0     0.5828    0.9632    0.7262    219096\n",
      "           1     0.8549    0.1873    0.3072    112695\n",
      "\n",
      "    accuracy                         0.6075    443040\n",
      "   macro avg     0.6984    0.4943    0.4917    443040\n",
      "weighted avg     0.6708    0.6075    0.5482    443040\n",
      "\n",
      "Accuracy: 0.6075\n"
     ]
    },
    {
     "data": {
      "image/png": "[encoded data removed]",
      "text/plain": [
       "<Figure size 600x400 with 2 Axes>"
      ]
     },
     "metadata": {},
     "output_type": "display_data"
    },
    {
     "name": "stdout",
     "output_type": "stream",
     "text": [
      "--- Evaluating Ridge Classifier ---\n",
      "Classification Report:\n",
      "               precision    recall  f1-score   support\n",
      "\n",
      "          -1     0.6698    0.2971    0.4116    111249\n",
      "           0     0.5653    0.9538    0.7099    219096\n",
      "           1     0.7953    0.1696    0.2796    112695\n",
      "\n",
      "    accuracy                         0.5894    443040\n",
      "   macro avg     0.6768    0.4735    0.4671    443040\n",
      "weighted avg     0.6501    0.5894    0.5256    443040\n",
      "\n",
      "Accuracy: 0.5894\n"
     ]
    },
    {
     "data": {
      "image/png": "[encoded data removed]",
      "text/plain": [
       "<Figure size 600x400 with 2 Axes>"
      ]
     },
     "metadata": {},
     "output_type": "display_data"
    }
   ],
   "source": [
    "models = {\n",
    "    'Logistic Regression': LogisticRegression(max_iter=1000, random_state=666, n_jobs=-1),\n",
    "    'Ridge Classifier': RidgeClassifier(random_state=666),\n",
    "}\n",
    "\n",
    "def train_evaluate_model(model, X_train, y_train, X_test, y_test):\n",
    "    model.fit(X_train, y_train)\n",
    "    y_pred = model.predict(X_test)\n",
    "    print(f\"Model: {model.__class__.__name__}\")\n",
    "    print(\"Classification Report:\\n\", classification_report(y_test, y_pred, digits=4))\n",
    "    acc = accuracy_score(y_test, y_pred)\n",
    "    print(f\"Accuracy: {acc:.4f}\\n\")\n",
    "    return y_pred\n",
    "\n",
    "trained_models = {}\n",
    "\n",
    "for name, model in models.items():\n",
    "    print(f\"--- Evaluating {name} ---\")\n",
    "    model.fit(X_train_scaled, y_train)\n",
    "    trained_models[name] = model\n",
    "    y_pred = model.predict(X_test_scaled)\n",
    "    conf = confusion_matrix(y_test, y_pred)\n",
    "    print(\"Classification Report:\\n\", classification_report(y_test, y_pred, digits=4))\n",
    "    acc = accuracy_score(y_test, y_pred)\n",
    "    print(f\"Accuracy: {acc:.4f}\")\n",
    "    plt.figure(figsize=(6,4))\n",
    "    sns.heatmap(conf, annot=True, fmt='d', cmap='flare', xticklabels=[-1,0,1], yticklabels=[-1,0,1])\n",
    "    plt.xlabel('Predicted')\n",
    "    plt.ylabel('Actual')\n",
    "    plt.title(f'Confusion Matrix for {name}')\n",
    "    plt.show()"
   ]
  },
  {
   "cell_type": "markdown",
   "metadata": {},
   "source": [
    "#### Feature importance for the baseline models"
   ]
  },
  {
   "cell_type": "code",
   "execution_count": 20,
   "metadata": {},
   "outputs": [
    {
     "name": "stdout",
     "output_type": "stream",
     "text": [
      "\n",
      "=== Top Features for Class -1 in Ridge Classifier ===\n",
      "\n",
      "Top Positive Features:\n",
      "               Feature  Coefficient\n",
      "                  VWAP    43.400057\n",
      "            AskPrice_2    39.859232\n",
      "            BidPrice_1     8.609574\n",
      "            AskPrice_1     8.608712\n",
      "        RelativeSpread     0.718196\n",
      "       BidVolume_3to10     0.023602\n",
      "           AskVolume_2     0.009075\n",
      "    LargeTrade_flag_20     0.007466\n",
      "        BidArrivalRate     0.005694\n",
      "BinanceLargeTradeCount     0.004028\n",
      "\n",
      "Top Negative Features:\n",
      "        Feature  Coefficient\n",
      "TradeVolume_Buy    -0.007108\n",
      "    BidVolume_2    -0.017200\n",
      " AskArrivalRate    -0.032880\n",
      "    BidVolume_1    -0.062142\n",
      "    AskVolume_1    -0.118629\n",
      "AskVolume_3to10    -0.204045\n",
      "Imbalance_Total    -0.344401\n",
      "         Spread    -0.672857\n",
      "     BidPrice_2   -39.496044\n",
      "     Microprice   -60.970744\n",
      "\n",
      "=== Top Features for Class 0 in Ridge Classifier ===\n",
      "\n",
      "Top Positive Features:\n",
      "        Feature  Coefficient\n",
      "     BidPrice_2    85.174295\n",
      "     Microprice     5.640620\n",
      "         Spread     0.985193\n",
      "    AskVolume_1     0.197051\n",
      "AskVolume_3to10     0.188103\n",
      "    BidVolume_1     0.156774\n",
      "BidVolume_3to10     0.098193\n",
      "Imbalance_Total     0.057388\n",
      " AskArrivalRate     0.025689\n",
      " BidArrivalRate     0.024268\n",
      "\n",
      "Top Negative Features:\n",
      "                         Feature  Coefficient\n",
      "               LargeTrade_flag_5    -0.004001\n",
      "BinanceTotalVolume_rollingSum_20    -0.005272\n",
      "          BinanceLargeTradeCount    -0.007313\n",
      "                     BidVolume_2    -0.009998\n",
      "              LargeTrade_flag_20    -0.018347\n",
      "                  RelativeSpread    -1.113559\n",
      "                      AskPrice_1    -1.530723\n",
      "                      BidPrice_1    -1.531898\n",
      "                            VWAP    -5.117647\n",
      "                      AskPrice_2   -82.599794\n",
      "\n",
      "=== Top Features for Class 1 in Ridge Classifier ===\n",
      "\n",
      "Top Positive Features:\n",
      "                         Feature  Coefficient\n",
      "                      Microprice    55.330123\n",
      "                      AskPrice_2    42.740562\n",
      "                  RelativeSpread     0.395363\n",
      "                 Imbalance_Total     0.287013\n",
      "                     BidVolume_2     0.027198\n",
      "                 AskVolume_3to10     0.015942\n",
      "              LargeTrade_flag_20     0.010881\n",
      "BinanceTotalVolume_rollingSum_20     0.008496\n",
      "                  AskArrivalRate     0.007191\n",
      "                   NumTrades_Buy     0.004926\n",
      "\n",
      "Top Negative Features:\n",
      "        Feature  Coefficient\n",
      "    AskVolume_2    -0.021633\n",
      " BidArrivalRate    -0.029962\n",
      "    AskVolume_1    -0.078422\n",
      "    BidVolume_1    -0.094632\n",
      "BidVolume_3to10    -0.121796\n",
      "         Spread    -0.312336\n",
      "     BidPrice_1    -7.077676\n",
      "     AskPrice_1    -7.077989\n",
      "           VWAP   -38.282410\n",
      "     BidPrice_2   -45.678252\n",
      "\n",
      "=== Global Feature Importance for Ridge Classifier ===\n",
      "        Feature  GlobalImportance\n",
      "     BidPrice_2        170.348591\n",
      "     AskPrice_2        165.199587\n",
      "     Microprice        121.941487\n",
      "           VWAP         86.800115\n",
      "     BidPrice_1         17.219149\n",
      "     AskPrice_1         17.217424\n",
      " RelativeSpread          2.227118\n",
      "         Spread          1.970386\n",
      "Imbalance_Total          0.688801\n",
      "AskVolume_3to10          0.408090\n",
      "\n",
      "=== Top Features for Class -1 in Logistic Regression ===\n",
      "\n",
      "Top Positive Features:\n",
      "                             Feature  Coefficient\n",
      "                      RelativeSpread     0.469649\n",
      "                              Spread     0.435973\n",
      "                         AskVolume_1     0.343788\n",
      "                         AskVolume_2     0.137220\n",
      "                     AskVolume_3to10     0.127855\n",
      "                     Imbalance_Total     0.097658\n",
      "                      BidArrivalRate     0.036224\n",
      "                          AskPrice_2     0.015358\n",
      "                  LargeTrade_flag_20     0.012562\n",
      "BinanceLargeTradeCount_rollingSum_20     0.009156\n",
      "\n",
      "Top Negative Features:\n",
      "                         Feature  Coefficient\n",
      "                      Microprice    -0.002532\n",
      " BinanceTotalVolume_rollingSum_5    -0.003807\n",
      "BinanceTotalVolume_rollingSum_20    -0.005976\n",
      "                 TradeVolume_Buy    -0.012452\n",
      "                   NumTrades_Buy    -0.016698\n",
      "                      BidPrice_2    -0.018506\n",
      "                  AskArrivalRate    -0.075355\n",
      "                     BidVolume_2    -0.178498\n",
      "                 BidVolume_3to10    -0.407627\n",
      "                     BidVolume_1    -1.063445\n",
      "\n",
      "=== Top Features for Class 0 in Logistic Regression ===\n",
      "\n",
      "Top Positive Features:\n",
      "        Feature  Coefficient\n",
      "    BidVolume_1     0.720245\n",
      "    AskVolume_1     0.703849\n",
      "AskVolume_3to10     0.247582\n",
      "BidVolume_3to10     0.225983\n",
      "     BidPrice_2     0.051473\n",
      " AskArrivalRate     0.034593\n",
      "    AskVolume_2     0.034012\n",
      " BidArrivalRate     0.033591\n",
      "    BidVolume_2     0.022028\n",
      "     Microprice     0.017262\n",
      "\n",
      "Top Negative Features:\n",
      "                             Feature  Coefficient\n",
      "    BinanceTotalVolume_rollingSum_20    -0.003585\n",
      "BinanceLargeTradeCount_rollingSum_20    -0.003589\n",
      " BinanceLargeTradeCount_rollingSum_5    -0.005745\n",
      "                   LargeTrade_flag_5    -0.008443\n",
      "              BinanceLargeTradeCount    -0.017737\n",
      "                          AskPrice_2    -0.019533\n",
      "                     Imbalance_Total    -0.025907\n",
      "                  LargeTrade_flag_20    -0.035768\n",
      "                              Spread    -0.887544\n",
      "                      RelativeSpread    -0.899709\n",
      "\n",
      "=== Top Features for Class 1 in Logistic Regression ===\n",
      "\n",
      "Top Positive Features:\n",
      "                         Feature  Coefficient\n",
      "                          Spread     0.451571\n",
      "                  RelativeSpread     0.430060\n",
      "                     BidVolume_1     0.343200\n",
      "                 BidVolume_3to10     0.181644\n",
      "                     BidVolume_2     0.156471\n",
      "                  AskArrivalRate     0.040762\n",
      "              LargeTrade_flag_20     0.023206\n",
      "                 TradeVolume_Buy     0.014154\n",
      "BinanceTotalVolume_rollingSum_20     0.009561\n",
      "          BinanceLargeTradeCount     0.008708\n",
      "\n",
      "Top Negative Features:\n",
      "        Feature  Coefficient\n",
      "     Microprice    -0.014730\n",
      "     AskPrice_1    -0.018357\n",
      "     BidPrice_1    -0.018890\n",
      "           VWAP    -0.020703\n",
      "     BidPrice_2    -0.032967\n",
      " BidArrivalRate    -0.069815\n",
      "Imbalance_Total    -0.071751\n",
      "    AskVolume_2    -0.171232\n",
      "AskVolume_3to10    -0.375437\n",
      "    AskVolume_1    -1.047637\n",
      "\n",
      "=== Global Feature Importance for Logistic Regression ===\n",
      "        Feature  GlobalImportance\n",
      "    BidVolume_1          2.126890\n",
      "    AskVolume_1          2.095274\n",
      " RelativeSpread          1.799419\n",
      "         Spread          1.775089\n",
      "BidVolume_3to10          0.815254\n",
      "AskVolume_3to10          0.750874\n",
      "    BidVolume_2          0.356997\n",
      "    AskVolume_2          0.342463\n",
      "Imbalance_Total          0.195316\n",
      " AskArrivalRate          0.150711\n"
     ]
    }
   ],
   "source": [
    "# Feature Importance\n",
    "for model_name in ['Ridge Classifier', 'Logistic Regression']:\n",
    "    model = trained_models[model_name]\n",
    "    \n",
    "    # Validate coefficients shape\n",
    "    if not hasattr(model, 'coef_'):\n",
    "        print(f\"Model {model_name} does not have coefficients to analyze.\")\n",
    "        continue\n",
    "    \n",
    "    coefficients = model.coef_  # Shape: (n_classes, n_features)\n",
    "    if coefficients.shape[1] != len(feature_cols):\n",
    "        print(f\"Feature length mismatch in {model_name}: \"\n",
    "              f\"{coefficients.shape[1]} coefficients vs {len(feature_cols)} features.\")\n",
    "        continue\n",
    "    \n",
    "    # Loop through each class\n",
    "    for class_idx, class_coefficients in enumerate(coefficients):\n",
    "        class_name = f\"Class {class_idx - 1}\"  # Replace with actual class labels if necessary\n",
    "        \n",
    "        # Pair coefficients with features\n",
    "        coeff_df = pd.DataFrame({\n",
    "            'Feature': feature_cols,\n",
    "            'Coefficient': class_coefficients\n",
    "        })\n",
    "        coeff_df = coeff_df.sort_values(by='Coefficient', ascending=False)\n",
    "        \n",
    "        print(f\"\\n=== Top Features for {class_name} in {model_name} ===\") \n",
    "        \n",
    "        # Top positive features\n",
    "        print(\"\\nTop Positive Features:\")\n",
    "        print(coeff_df.head(10).to_string(index=False))\n",
    "        \n",
    "        # Top negative features\n",
    "        print(\"\\nTop Negative Features:\")\n",
    "        print(coeff_df.tail(10).to_string(index=False))\n",
    "    \n",
    "    # Aggregate feature importance across classes (absolute coefficients)\n",
    "    global_importance = np.sum(np.abs(coefficients), axis=0)\n",
    "    global_importance_df = pd.DataFrame({\n",
    "        'Feature': feature_cols,\n",
    "        'GlobalImportance': global_importance\n",
    "    })\n",
    "    global_importance_df = global_importance_df.sort_values(by='GlobalImportance', ascending=False)\n",
    "    \n",
    "    print(f\"\\n=== Global Feature Importance for {model_name} ===\")\n",
    "    print(global_importance_df.head(10).to_string(index=False))"
   ]
  },
  {
   "cell_type": "markdown",
   "metadata": {},
   "source": [
    "### LSTM"
   ]
  },
  {
   "cell_type": "code",
   "execution_count": 18,
   "metadata": {},
   "outputs": [],
   "source": [
    "# Constants\n",
    "WINDOW_SIZE = 600  # One minute\n",
    "BATCH_SIZE = 256\n",
    "\n",
    "# Mapping labels\n",
    "unique_labels = np.unique(y_train)\n",
    "label_map = {val: idx for idx, val in enumerate(sorted(unique_labels))}\n",
    "inv_label_map = {v: k for k, v in label_map.items()}\n",
    "\n",
    "# Sequence generator\n",
    "def sequence_generator(X, y, window_size=WINDOW_SIZE, batch_size=BATCH_SIZE):\n",
    "    n_samples = len(X)\n",
    "    max_start = n_samples - window_size + 1\n",
    "    i = 0\n",
    "    while True:\n",
    "        X_batch = np.zeros((batch_size, window_size, X.shape[1]), dtype=np.float16)\n",
    "        y_batch = np.zeros(batch_size, dtype=int)\n",
    "        \n",
    "        for b in range(batch_size):\n",
    "            if i >= max_start:\n",
    "                i = 0\n",
    "            X_batch[b] = X[i:i+window_size].astype(np.float16)\n",
    "            y_batch[b] = label_map[y.iloc[i+window_size-1]]\n",
    "            i += 1\n",
    "        \n",
    "        y_batch_cat = to_categorical(y_batch, num_classes=len(unique_labels))\n",
    "        yield X_batch, y_batch_cat\n",
    "\n",
    "# Training and validation generators\n",
    "train_gen = sequence_generator(X_train_scaled, y_train)\n",
    "val_gen = sequence_generator(X_test_scaled, y_test)\n",
    "\n",
    "n_features = X_train_scaled.shape[1]\n",
    "n_classes = len(unique_labels)\n",
    "\n",
    "train_steps = (len(X_train_scaled) - WINDOW_SIZE + 1) // BATCH_SIZE\n",
    "val_steps = (len(X_test_scaled) - WINDOW_SIZE + 1) // BATCH_SIZE"
   ]
  },
  {
   "cell_type": "code",
   "execution_count": 24,
   "metadata": {},
   "outputs": [],
   "source": [
    "##########################\n",
    "# Hyperparameter Tuning  #\n",
    "##########################\n",
    "\n",
    "def model_builder(hp):\n",
    "    model = Sequential()\n",
    "    # Hyperparameters to tune:\n",
    "    # - Number of units in LSTM\n",
    "    # - Dropout rate\n",
    "    # - Dense layer size\n",
    "\n",
    "    lstm_units = hp.Int('lstm_units', min_value=32, max_value=128, step=32)\n",
    "    dense_units = hp.Int('dense_units', min_value=16, max_value=128, step=16)\n",
    "    dropout_rate = hp.Float('dropout_rate', min_value=0.1, max_value=0.5, step=0.1)\n",
    "    \n",
    "    # LSTM layer\n",
    "    model.add(LSTM(lstm_units, input_shape=(WINDOW_SIZE, n_features), return_sequences=False))\n",
    "    model.add(Dropout(dropout_rate))\n",
    "\n",
    "    # Dense layer\n",
    "    model.add(Dense(dense_units, activation='relu'))\n",
    "    model.add(Dropout(dropout_rate))\n",
    "\n",
    "    # Output layer\n",
    "    model.add(Dense(n_classes, activation='softmax'))\n",
    "\n",
    "    # Hyperparameter for optimizer learning rate\n",
    "    learning_rate = hp.Choice('learning_rate', values=[1e-3, 5e-4, 1e-4])\n",
    "\n",
    "    model.compile(loss='categorical_crossentropy', \n",
    "                  optimizer=tf.keras.optimizers.Adam(learning_rate=learning_rate), \n",
    "                  metrics=['accuracy'])\n",
    "\n",
    "    return model"
   ]
  },
  {
   "cell_type": "code",
   "execution_count": 25,
   "metadata": {},
   "outputs": [
    {
     "name": "stdout",
     "output_type": "stream",
     "text": [
      "INFO:tensorflow:Reloading Oracle from existing project hyperparam_tuning\\lstm_tuning\\oracle.json\n",
      "INFO:tensorflow:Reloading Tuner from hyperparam_tuning\\lstm_tuning\\tuner0.json\n"
     ]
    }
   ],
   "source": [
    "# Create a tuner\n",
    "tuner = kt.RandomSearch(\n",
    "    model_builder,\n",
    "    objective='val_accuracy',\n",
    "    max_trials=20,  # Increase number of trials for a thorough search\n",
    "    executions_per_trial=1,\n",
    "    directory='hyperparam_tuning',\n",
    "    project_name='lstm_tuning'\n",
    ")\n",
    "\n",
    "# Early stopping for tuning\n",
    "early_stop = EarlyStopping(monitor='val_accuracy', patience=3, restore_best_weights=True)"
   ]
  },
  {
   "cell_type": "code",
   "execution_count": 26,
   "metadata": {},
   "outputs": [
    {
     "name": "stdout",
     "output_type": "stream",
     "text": [
      "Trial 20 Complete [00h 21m 05s]\n",
      "val_accuracy: 0.7281358242034912\n",
      "\n",
      "Best val_accuracy So Far: 0.7393482327461243\n",
      "Total elapsed time: 06h 47m 26s\n",
      "INFO:tensorflow:Oracle triggered exit\n"
     ]
    }
   ],
   "source": [
    "tuner.search(\n",
    "    train_gen,\n",
    "    steps_per_epoch=train_steps,\n",
    "    validation_data=val_gen,\n",
    "    validation_steps=val_steps,\n",
    "    epochs=5,  # fewer epochs for tuning\n",
    "    callbacks=[early_stop],\n",
    "    verbose=1\n",
    ")"
   ]
  },
  {
   "cell_type": "code",
   "execution_count": 27,
   "metadata": {},
   "outputs": [
    {
     "name": "stdout",
     "output_type": "stream",
     "text": [
      "Best hyperparameters found:\n",
      "LSTM Units: 96\n",
      "Dense Units: 32\n",
      "Dropout Rate: 0.2\n",
      "Learning Rate: 0.001\n"
     ]
    }
   ],
   "source": [
    "# Get the best hyperparameters and build the final model\n",
    "best_hps = tuner.get_best_hyperparameters(num_trials=1)[0]\n",
    "print(\"Best hyperparameters found:\")\n",
    "print(\"LSTM Units:\", best_hps.get('lstm_units')) # 96\n",
    "print(\"Dense Units:\", best_hps.get('dense_units')) # 32\n",
    "print(\"Dropout Rate:\", best_hps.get('dropout_rate')) # 0.2\n",
    "print(\"Learning Rate:\", best_hps.get('learning_rate')) # 0.001"
   ]
  },
  {
   "cell_type": "markdown",
   "metadata": {},
   "source": [
    "***\n",
    "### Final LSTM model with tuned paramters"
   ]
  },
  {
   "cell_type": "code",
   "execution_count": 21,
   "metadata": {},
   "outputs": [],
   "source": [
    "# Best hyperparameters found\n",
    "# LSTM Units: 96\n",
    "# Dense Units: 32\n",
    "# Dropout Rate: 0.2\n",
    "# Learning Rate: 0.001\n",
    "\n",
    "model = Sequential([\n",
    "    LSTM(96, input_shape=(WINDOW_SIZE, n_features), return_sequences=False),\n",
    "    Dropout(0.2),\n",
    "    Dense(32, activation='relu'),\n",
    "    Dropout(0.2),\n",
    "    Dense(n_classes, activation='softmax')\n",
    "])\n",
    "\n",
    "model.compile(loss='categorical_crossentropy', optimizer='adam', metrics=['accuracy'])\n",
    "# Training the model\n",
    "train_steps = (len(X_train_scaled) - WINDOW_SIZE + 1) // BATCH_SIZE\n",
    "val_steps = (len(X_test_scaled) - WINDOW_SIZE + 1) // BATCH_SIZE"
   ]
  },
  {
   "cell_type": "code",
   "execution_count": 23,
   "metadata": {},
   "outputs": [
    {
     "name": "stdout",
     "output_type": "stream",
     "text": [
      "Epoch 1/10\n",
      "6920/6920 [==============================] - 321s 46ms/step - loss: 0.5855 - accuracy: 0.7705 - val_loss: 0.7273 - val_accuracy: 0.7064\n",
      "Epoch 2/10\n",
      "6920/6920 [==============================] - 315s 46ms/step - loss: 0.5368 - accuracy: 0.7961 - val_loss: 0.6985 - val_accuracy: 0.7220\n",
      "Epoch 3/10\n",
      "6920/6920 [==============================] - 312s 45ms/step - loss: 0.5216 - accuracy: 0.8024 - val_loss: 0.7020 - val_accuracy: 0.7226\n",
      "Epoch 4/10\n",
      "6920/6920 [==============================] - 313s 45ms/step - loss: 0.5128 - accuracy: 0.8064 - val_loss: 0.6799 - val_accuracy: 0.7313\n",
      "Epoch 5/10\n",
      "6920/6920 [==============================] - 315s 46ms/step - loss: 0.5063 - accuracy: 0.8088 - val_loss: 0.6804 - val_accuracy: 0.7315\n",
      "Epoch 6/10\n",
      "6920/6920 [==============================] - 316s 46ms/step - loss: 0.5016 - accuracy: 0.8109 - val_loss: 0.6378 - val_accuracy: 0.7461\n",
      "Epoch 7/10\n",
      "6920/6920 [==============================] - 316s 46ms/step - loss: 0.4969 - accuracy: 0.8128 - val_loss: 0.6464 - val_accuracy: 0.7433\n",
      "Epoch 8/10\n",
      "6920/6920 [==============================] - 343s 50ms/step - loss: 0.4928 - accuracy: 0.8147 - val_loss: 0.6548 - val_accuracy: 0.7424\n",
      "Epoch 9/10\n",
      "6920/6920 [==============================] - 337s 49ms/step - loss: 0.4903 - accuracy: 0.8155 - val_loss: 0.6306 - val_accuracy: 0.7502\n",
      "Epoch 10/10\n",
      "6920/6920 [==============================] - 311s 45ms/step - loss: 0.4869 - accuracy: 0.8166 - val_loss: 0.6255 - val_accuracy: 0.7531\n"
     ]
    }
   ],
   "source": [
    "# Model training\n",
    "history = model.fit(\n",
    "    train_gen,\n",
    "    steps_per_epoch=train_steps,\n",
    "    epochs=10,\n",
    "    validation_data=val_gen,\n",
    "    validation_steps=val_steps\n",
    ")"
   ]
  },
  {
   "cell_type": "code",
   "execution_count": 24,
   "metadata": {},
   "outputs": [
    {
     "name": "stdout",
     "output_type": "stream",
     "text": [
      "LSTM Model Classification Report:\n",
      "              precision    recall  f1-score   support\n",
      "\n",
      "          -1     0.7242    0.6640    0.6928    111180\n",
      "           0     0.7317    0.9185    0.8145    218604\n",
      "           1     0.8865    0.5199    0.6555    112584\n",
      "\n",
      "    accuracy                         0.7531    442368\n",
      "   macro avg     0.7808    0.7008    0.7209    442368\n",
      "weighted avg     0.7692    0.7531    0.7434    442368\n",
      "\n"
     ]
    },
    {
     "data": {
      "image/png": "[encoded data removed]",
      "text/plain": [
       "<Figure size 600x400 with 2 Axes>"
      ]
     },
     "metadata": {},
     "output_type": "display_data"
    },
    {
     "name": "stdout",
     "output_type": "stream",
     "text": [
      "LSTM Model Accuracy: 0.7531\n"
     ]
    }
   ],
   "source": [
    "# Evaluate the model\n",
    "def evaluate_model_with_generator(model, generator, steps, y_true, inv_map):\n",
    "    y_pred_probs = []\n",
    "    y_true_labels = []\n",
    "    for _ in range(steps):\n",
    "        X_batch, y_batch = next(generator)\n",
    "        y_pred_probs.append(model.predict(X_batch, verbose=0))\n",
    "        y_true_labels.append(y_batch)\n",
    "    y_pred_probs = np.vstack(y_pred_probs)\n",
    "    y_true_labels = np.vstack(y_true_labels)\n",
    "\n",
    "    y_pred = np.argmax(y_pred_probs, axis=1)\n",
    "    y_true = np.argmax(y_true_labels, axis=1)\n",
    "\n",
    "    y_pred_original = np.array([inv_map[val] for val in y_pred])\n",
    "    y_true_original = np.array([inv_map[val] for val in y_true])\n",
    "\n",
    "    acc = accuracy_score(y_true_original, y_pred_original)\n",
    "    return acc, y_pred_original, y_true_original\n",
    "test_gen = sequence_generator(X_test_scaled, y_test)\n",
    "acc, y_pred_original, y_true_original = evaluate_model_with_generator(model, test_gen, val_steps, y_test, inv_label_map)\n",
    "\n",
    "print(\"LSTM Model Classification Report:\")\n",
    "print(classification_report(y_true_original, y_pred_original, digits=4))\n",
    "\n",
    "conf = confusion_matrix(y_true_original, y_pred_original)\n",
    "plt.figure(figsize=(6, 4))\n",
    "sns.heatmap(conf, annot=True, fmt='d', cmap='Blues', \n",
    "            xticklabels=sorted(unique_labels), yticklabels=sorted(unique_labels))\n",
    "plt.xlabel('Predicted')\n",
    "plt.ylabel('Actual')\n",
    "plt.title('Confusion Matrix for LSTM Model')\n",
    "plt.show()\n",
    "\n",
    "print(f\"LSTM Model Accuracy: {acc:.4f}\")"
   ]
  },
  {
   "cell_type": "code",
   "execution_count": 21,
   "metadata": {},
   "outputs": [
    {
     "data": {
      "text/plain": [
       "['scaler.joblib']"
      ]
     },
     "execution_count": 21,
     "metadata": {},
     "output_type": "execute_result"
    }
   ],
   "source": [
    "# Save the trained LSTM model\n",
    "model.save('lstm_model.h5')\n",
    "\n",
    "# Save the scaler as well, so we can use it during live inference \n",
    "joblib.dump(scaler, 'scaler.joblib')"
   ]
  }
 ],
 "metadata": {
  "kernelspec": {
   "display_name": "py310",
   "language": "python",
   "name": "python3"
  },
  "language_info": {
   "codemirror_mode": {
    "name": "ipython",
    "version": 3
   },
   "file_extension": ".py",
   "mimetype": "text/x-python",
   "name": "python",
   "nbconvert_exporter": "python",
   "pygments_lexer": "ipython3",
   "version": "3.10.16"
  }
 },
 "nbformat": 4,
 "nbformat_minor": 2
}
