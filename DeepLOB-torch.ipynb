{
 "cells": [
  {
   "cell_type": "markdown",
   "metadata": {},
   "source": [
    "### **PyTorch Implementation of DeepLOB for Limit Order Book Prediction**\n",
    "\n",
    "This notebook demonstrates an implementation of the DeepLOB model architecture in PyTorch. The goal is to predict short-term price movements (up, down, or stationary) based on historical limit order book (LOB) and trade data.\n",
    "\n",
    "We will:\n",
    "\n",
    "1. **Load and preprocess data:**  \n",
    "   - Extract prices, volumes, and order counts for multiple LOB levels.\n",
    "   - Compute mid-prices, imbalances, and other microstructural features.\n",
    "   - Incorporate external data (e.g., trades from Binance) to enrich our feature set.\n",
    "   - Label our data based on future price movements, applying smoothing to reduce noise.\n",
    "\n",
    "2. **Feature engineering and scaling:**  \n",
    "   - Create a comprehensive feature matrix, including aggregated volumes, imbalances, spreads, and rolling aggregates of volume.\n",
    "   - Normalize features to ensure stable training.\n",
    "\n",
    "3. **Define the DeepLOB architecture in PyTorch:**\n",
    "   - **Initial convolution layers:** to extract local spatial patterns from the LOB features.\n",
    "   - **Inception modules:** to capture multi-scale temporal features at each time step.\n",
    "   - **LSTM layer:** to learn how these features evolve over time, capturing longer-term temporal dependencies.\n",
    "   - **Final dense layer (softmax output):** to predict the probability of each price movement class.\n",
    "\n",
    "4. **Training loop:**\n",
    "   - Train with early stopping to prevent overfitting.\n",
    "   - Evaluate on a test set and produce metrics like accuracy, precision, recall, and a confusion matrix.\n",
    "\n",
    "This approach is inspired by the *DeepLOB: Deep Convolutional Neural Networks for Limit Order Books* paper, adapting the architecture into PyTorch and extending it with custom features and data sources."
   ]
  },
  {
   "cell_type": "code",
   "execution_count": 5,
   "metadata": {},
   "outputs": [],
   "source": [
    "import numpy as np\n",
    "import pandas as pd\n",
    "import seaborn as sns\n",
    "import matplotlib.pyplot as plt\n",
    "import joblib\n",
    "import os\n",
    "\n",
    "import warnings\n",
    "warnings.filterwarnings('ignore')\n",
    "pd.set_option('display.expand_frame_repr', False)\n",
    "\n",
    "import torch\n",
    "import torch.nn as nn\n",
    "import torch.optim as optim\n",
    "from torch.utils.data import Dataset, DataLoader\n",
    "import torch.nn.functional as F\n",
    "\n",
    "from sklearn.preprocessing import StandardScaler\n",
    "from sklearn.metrics import classification_report, confusion_matrix, accuracy_score"
   ]
  },
  {
   "cell_type": "markdown",
   "metadata": {},
   "source": [
    "We use orderbook and trade data of ETH on HyperLiquid"
   ]
  },
  {
   "cell_type": "code",
   "execution_count": 36,
   "metadata": {},
   "outputs": [],
   "source": [
    "LOB_LEVELS = 10\n",
    "DATA_PATH = 'C:/Users/trgrd/OneDrive/Trading/Projects/data_download/hyp_data/ETH'\n",
    "BOOK_FILES = ['ETH_book_20241108.pkl', 'ETH_book_20241109.pkl', 'ETH_book_20241110.pkl']\n",
    "TRADE_FILES = ['ETH_trade_20241108.pkl', 'ETH_trade_20241109.pkl', 'ETH_trade_20241110.pkl']\n",
    "\n",
    "# Function to load and concatenate multiple pickle files\n",
    "def load_and_concat(files, data_path):\n",
    "    return pd.concat([pd.DataFrame(pd.read_pickle(os.path.join(data_path, f))) for f in files], ignore_index=True)\n",
    "\n",
    "# Load and concatenate book and trade data\n",
    "ETH_book = load_and_concat(BOOK_FILES, DATA_PATH)\n",
    "ETH_trades = load_and_concat(TRADE_FILES, DATA_PATH)\n",
    "\n",
    "# Define column names for bids and asks\n",
    "bid_price_cols = [f'BidPrice_{i+1}' for i in range(LOB_LEVELS)]\n",
    "bid_volume_cols = [f'BidVolume_{i+1}' for i in range(LOB_LEVELS)]\n",
    "bid_orders_cols = [f'BidOrders_{i+1}' for i in range(LOB_LEVELS)]\n",
    "ask_price_cols = [f'AskPrice_{i+1}' for i in range(LOB_LEVELS)]\n",
    "ask_volume_cols = [f'AskVolume_{i+1}' for i in range(LOB_LEVELS)]\n",
    "ask_orders_cols = [f'AskOrders_{i+1}' for i in range(LOB_LEVELS)]\n",
    "\n",
    "# Extract bids and asks from the 'levels' column\n",
    "bids = ETH_book['levels'].apply(lambda x: x[0] if isinstance(x, (list, tuple)) and len(x) > 0 else [])\n",
    "asks = ETH_book['levels'].apply(lambda x: x[1] if isinstance(x, (list, tuple)) and len(x) > 1 else [])\n",
    "\n",
    "# Helper function optimized using list comprehensions without appending NaNs\n",
    "def extract_field(entries, field, levels=LOB_LEVELS):\n",
    "    return [entry.get(field, np.nan) for entry in entries[:levels]] + [np.nan]*(levels - len(entries[:levels]))\n",
    "\n",
    "# Extract bid and ask fields\n",
    "bid_px = bids.apply(lambda x: extract_field(x, 'px')).tolist()\n",
    "bid_sz = bids.apply(lambda x: extract_field(x, 'sz')).tolist()\n",
    "bid_n = bids.apply(lambda x: extract_field(x, 'n')).tolist()\n",
    "\n",
    "ask_px = asks.apply(lambda x: extract_field(x, 'px')).tolist()\n",
    "ask_sz = asks.apply(lambda x: extract_field(x, 'sz')).tolist()\n",
    "ask_n = asks.apply(lambda x: extract_field(x, 'n')).tolist()\n",
    "\n",
    "# Convert lists to NumPy arrays for efficient processing\n",
    "bid_px_np = np.array(bid_px, dtype=np.float32)\n",
    "bid_sz_np = np.array(bid_sz, dtype=np.float32)\n",
    "bid_n_np = np.array(bid_n, dtype=np.float32)\n",
    "\n",
    "ask_px_np = np.array(ask_px, dtype=np.float32)\n",
    "ask_sz_np = np.array(ask_sz, dtype=np.float32)\n",
    "ask_n_np = np.array(ask_n, dtype=np.float32)\n",
    "\n",
    "# Create a dictionary for all LOB data\n",
    "lob_data = {\n",
    "    **{col: bid_px_np[:, i] for i, col in enumerate(bid_price_cols)},\n",
    "    **{col: bid_sz_np[:, i] for i, col in enumerate(bid_volume_cols)},\n",
    "    **{col: bid_n_np[:, i] for i, col in enumerate(bid_orders_cols)},\n",
    "    **{col: ask_px_np[:, i] for i, col in enumerate(ask_price_cols)},\n",
    "    **{col: ask_sz_np[:, i] for i, col in enumerate(ask_volume_cols)},\n",
    "    **{col: ask_n_np[:, i] for i, col in enumerate(ask_orders_cols)},\n",
    "}\n",
    "\n",
    "# Create the LOB DataFrame\n",
    "lob_expanded = pd.DataFrame(lob_data)\n",
    "\n",
    "# Reorder columns to interleave bids and asks efficiently\n",
    "interleaved_columns = []\n",
    "for i in range(LOB_LEVELS):\n",
    "    interleaved_columns.extend([\n",
    "        f'BidPrice_{i+1}',\n",
    "        f'BidVolume_{i+1}',\n",
    "        f'AskPrice_{i+1}',\n",
    "        f'AskVolume_{i+1}'\n",
    "    ])\n",
    "\n",
    "# Create interleaved orders columns\n",
    "orders_interleaved = []\n",
    "for i in range(LOB_LEVELS):\n",
    "    orders_interleaved.extend([\n",
    "        f'BidOrders_{i+1}',\n",
    "        f'AskOrders_{i+1}'\n",
    "    ])\n",
    "\n",
    "# Combine both interleaved columns\n",
    "final_column_order = interleaved_columns + orders_interleaved\n",
    "\n",
    "# Select columns in the specified interleaved order\n",
    "lob_expanded = lob_expanded[final_column_order]\n",
    "\n",
    "# Combine with the original ETH_book DataFrame, dropping 'levels' column\n",
    "eth_book = pd.concat([ETH_book.drop(columns=['levels']), lob_expanded], axis=1)"
   ]
  },
  {
   "cell_type": "code",
   "execution_count": 37,
   "metadata": {},
   "outputs": [
    {
     "name": "stdout",
     "output_type": "stream",
     "text": [
      "    BidPrice_3  BidVolume_3   AskPrice_3  AskVolume_3  BidPrice_4  BidVolume_4   AskPrice_4  AskVolume_4   BidPrice_5  BidVolume_5\n",
      "0  2889.600098      32.9823  2890.399902       8.6558      2889.5    25.846399  2890.500000       2.0000  2889.399902    13.648400\n",
      "1  2889.600098      32.9823  2890.399902       8.6558      2889.5    25.846399  2890.500000       2.0000  2889.399902    13.648400\n",
      "2  2889.600098      32.9823  2890.399902       8.6558      2889.5    25.846399  2890.500000       2.0000  2889.399902    13.648400\n",
      "3  2889.600098      32.9823  2890.399902       8.6558      2889.5    25.846399  2890.500000       2.0000  2889.399902    13.648400\n",
      "4  2889.600098      32.9823  2890.399902       8.6558      2889.5    25.846399  2890.500000       2.0000  2889.399902    13.648400\n",
      "5  2889.600098      32.9823  2890.399902       8.6558      2889.5    25.846399  2890.500000       2.0000  2889.399902    13.648400\n",
      "6  2889.600098      32.2033  2890.199951      10.6558      2889.5    17.052200  2890.300049       4.8387  2889.399902   143.024002\n",
      "7  2889.600098      32.2033  2890.199951      10.6558      2889.5    17.052200  2890.300049       4.8387  2889.399902   143.024002\n",
      "8  2889.600098      32.2033  2890.199951      10.6558      2889.5    17.052200  2890.300049       4.8387  2889.399902   143.024002\n",
      "9  2889.600098      32.2033  2890.199951      10.6558      2889.5    17.052200  2890.300049       4.8387  2889.399902   143.024002\n"
     ]
    }
   ],
   "source": [
    "print(eth_book.iloc[:10, 10:20])"
   ]
  },
  {
   "cell_type": "code",
   "execution_count": 38,
   "metadata": {},
   "outputs": [],
   "source": [
    "eth_book['MidPrice'] = (eth_book['AskPrice_1'] + eth_book['BidPrice_1']) / 2\n",
    "eth_book['MidPrice_Next'] = eth_book['MidPrice'].shift(-1)\n",
    "eth_book['PriceMove'] = 0\n",
    "eth_book.loc[eth_book['MidPrice_Next'] > eth_book['MidPrice'], 'PriceMove'] = 1\n",
    "eth_book.loc[eth_book['MidPrice_Next'] < eth_book['MidPrice'], 'PriceMove'] = -1\n",
    "eth_book = eth_book.dropna(subset=['MidPrice_Next'])\n",
    "\n",
    "for level in range(1, LOB_LEVELS+1):\n",
    "    b_vol = eth_book[f'BidVolume_{level}']\n",
    "    a_vol = eth_book[f'AskVolume_{level}']\n",
    "    eth_book[f'Imbalance_{level}'] = (b_vol - a_vol) / (b_vol + a_vol)\n",
    "\n",
    "eth_book['Imbalance_Total'] = (eth_book[[f'BidVolume_{i}' for i in range(1, LOB_LEVELS+1)]].sum(axis=1) -\n",
    "    eth_book[[f'AskVolume_{i}' for i in range(1, LOB_LEVELS+1)]].sum(axis=1)\n",
    ") / (\n",
    "    eth_book[[f'BidVolume_{i}' for i in range(1, LOB_LEVELS+1)]].sum(axis=1) +\n",
    "    eth_book[[f'AskVolume_{i}' for i in range(1, LOB_LEVELS+1)]].sum(axis=1)\n",
    ")\n",
    "\n",
    "for level in range(1, LOB_LEVELS+1):\n",
    "    eth_book[f'BidOrders_{level}_Change'] = eth_book[f'BidOrders_{level}'].diff()\n",
    "    eth_book[f'AskOrders_{level}_Change'] = eth_book[f'AskOrders_{level}'].diff()"
   ]
  },
  {
   "cell_type": "markdown",
   "metadata": {},
   "source": [
    "#### Incorporating Trades and External Data\n",
    "\n",
    "We add buy/sell trade volumes, number of trades, and also merge in Binance trades data to capture global liquidity signals. Large trades on another exchange can affect short-term price movements here."
   ]
  },
  {
   "cell_type": "code",
   "execution_count": 39,
   "metadata": {},
   "outputs": [],
   "source": [
    "# Trades\n",
    "ETH_trades['sz'] = ETH_trades['sz'].astype(float)\n",
    "ETH_trades['side'] = ETH_trades['side'].astype(str)\n",
    "ETH_trades['time'] = pd.to_datetime(ETH_trades['time'], unit='ms')\n",
    "eth_book.reset_index(inplace=True)\n",
    "eth_book['time'] = pd.to_datetime(eth_book['time'], unit='ms')\n",
    "\n",
    "ETH_trades.set_index('time', inplace=True)\n",
    "eth_book.set_index('time', inplace=True)\n",
    "\n",
    "eth_book.fillna(0, inplace=True)\n",
    "eth_book['BidArrivalRate'] = eth_book[[f'BidOrders_{i}_Change' for i in range(1, LOB_LEVELS+1)]].sum(axis=1)\n",
    "eth_book['AskArrivalRate'] = eth_book[[f'AskOrders_{i}_Change' for i in range(1, LOB_LEVELS+1)]].sum(axis=1)\n",
    "\n",
    "eth_book['TradeVolume_Buy'] = 0.0\n",
    "eth_book['TradeVolume_Sell'] = 0.0\n",
    "eth_book['NumTrades_Buy'] = 0\n",
    "eth_book['NumTrades_Sell'] = 0\n",
    "trade_resampled = ETH_trades.groupby('time').agg({'sz':'sum','side':lambda x: x.value_counts().to_dict()})\n",
    "eth_book = eth_book.merge(trade_resampled, left_index=True, right_index=True, how='left')\n",
    "eth_book['sz'].fillna(0, inplace=True)\n",
    "eth_book['side'] = eth_book['side'].apply(lambda x: {} if pd.isnull(x) else x)\n",
    "eth_book['TradeVolume_Buy'] = eth_book.apply(lambda row: row['sz'] if 'B' in row['side'] else 0, axis=1)\n",
    "eth_book['TradeVolume_Sell'] = eth_book.apply(lambda row: row['sz'] if 'S' in row['side'] else 0, axis=1)\n",
    "eth_book['NumTrades_Buy'] = eth_book['side'].apply(lambda x: x.get('B',0))\n",
    "eth_book['NumTrades_Sell'] = eth_book['side'].apply(lambda x: x.get('S',0))\n",
    "eth_book.drop(columns=['sz','side'], inplace=True)"
   ]
  },
  {
   "cell_type": "code",
   "execution_count": 40,
   "metadata": {},
   "outputs": [],
   "source": [
    "# Binance data\n",
    "binance_trades1 = pd.read_csv('C:/Users/trgrd/OneDrive/Trading/Projects/data_download/Binance_data/ETHUSDT-trades-2024-11-08.csv', header=None)\n",
    "binance_trades2 = pd.read_csv('C:/Users/trgrd/OneDrive/Trading/Projects/data_download/Binance_data/ETHUSDT-trades-2024-11-09.csv', header=None)\n",
    "binance_trades3 = pd.read_csv('C:/Users/trgrd/OneDrive/Trading/Projects/data_download/Binance_data/ETHUSDT-trades-2024-11-10.csv', header=None)\n",
    "\n",
    "binance_trades = pd.concat([binance_trades1, binance_trades2, binance_trades3])\n",
    "binance_trades = binance_trades.rename(columns={0:'ID', 1:'Price', 2:'Quantity', 3:'Quote_Quantity', 4:'Time', 5:'Is_Buyer_Make', 6:'Ignore'})\n",
    "binance_trades['Time'] = pd.to_datetime(binance_trades['Time'], unit='ms')\n",
    "binance_trades.set_index('Time', inplace=True)\n",
    "\n",
    "threshold = binance_trades['Quantity'].quantile(0.95)\n",
    "binance_trades['LargeTrade'] = (binance_trades['Quantity'] >= threshold).astype(int)\n",
    "binance_agg = binance_trades.groupby('Time').agg({'Quantity':'sum','LargeTrade':'sum'})\n",
    "eth_book = eth_book.merge(binance_agg, how='left', left_index=True, right_index=True)\n",
    "eth_book['Quantity'].fillna(0, inplace=True)\n",
    "eth_book['LargeTrade'].fillna(0, inplace=True)\n",
    "eth_book.rename(columns={'Quantity':'BinanceTotalVolume','LargeTrade':'BinanceLargeTradeCount'}, inplace=True)\n",
    "\n",
    "eth_book['Lagged_BinanceTotalVolume'] = eth_book['BinanceTotalVolume'].shift(1).fillna(0)\n",
    "eth_book['Lagged_BinanceLargeTradeCount'] = eth_book['BinanceLargeTradeCount'].shift(1).fillna(0)\n",
    "\n",
    "window_sizes = [5, 20]\n",
    "for w in window_sizes:\n",
    "    eth_book[f'BinanceTotalVolume_rollingSum_{w}'] = (\n",
    "        eth_book['Lagged_BinanceTotalVolume'].rolling(window=w, min_periods=1).sum()\n",
    "    )\n",
    "    eth_book[f'BinanceLargeTradeCount_rollingSum_{w}'] = (\n",
    "        eth_book['Lagged_BinanceLargeTradeCount'].rolling(window=w, min_periods=1).sum()\n",
    "    )\n",
    "    eth_book[f'LargeTrade_flag_{w}'] = (eth_book[f'BinanceLargeTradeCount_rollingSum_{w}'] > 0).astype(int)"
   ]
  },
  {
   "cell_type": "markdown",
   "metadata": {},
   "source": [
    "#### Additional Derived Features and Label Smoothing\n",
    "\n",
    "We compute:\n",
    "- Spread and Relative Spread (measure of liquidity cost)\n",
    "- Microprice (volume-weighted quote measure)\n",
    "- VWAP (Volume Weighted Average Price at top level)\n",
    "- Rolling sums of Binance volume and large trades for capturing local trends\n",
    "\n",
    "To reduce label noise, we apply smoothing:\n",
    "$$\n",
    "m_{\\text{prev}} = \\frac{1}{S}\\sum_{i=0}^{S-1} p_{t-i}, \\quad m_{\\text{next}} = \\frac{1}{S}\\sum_{i=1}^{S} p_{t+i}\n",
    "$$\n",
    "Then we define a threshold $\\alpha$, and label up/down based on:\n",
    "$$\n",
    "l_t = \\frac{m_{\\text{next}}(t) - m_{\\text{prev}}(t)}{m_{\\text{prev}}(t)}\n",
    "$$\n",
    "\n",
    "If $ l_t > \\alpha $ label = +1, if $ l_t < -\\alpha $ label = -1, else 0. This reduces spurious signals.\n"
   ]
  },
  {
   "cell_type": "code",
   "execution_count": 41,
   "metadata": {},
   "outputs": [],
   "source": [
    "eth_book['Spread'] = eth_book['AskPrice_1'] - eth_book['BidPrice_1']\n",
    "eth_book['RelativeSpread'] = eth_book['Spread'] / eth_book['MidPrice']\n",
    "eth_book['Microprice'] = (\n",
    "    eth_book['Imbalance_1']*eth_book['AskPrice_1'] + (1 - eth_book['Imbalance_1'])*eth_book['BidPrice_1']\n",
    ")\n",
    "eth_book['VWAP'] = (eth_book['AskPrice_1']*eth_book['AskVolume_1'] + eth_book['BidPrice_1']*eth_book['BidVolume_1']) / (eth_book['AskVolume_1']+eth_book['BidVolume_1'])\n",
    "\n",
    "S = 10\n",
    "alpha = 0.00001\n",
    "m_prev = eth_book['MidPrice'].rolling(window=S, min_periods=1).mean()\n",
    "m_next = eth_book['MidPrice'].shift(-S).rolling(window=S, min_periods=1).mean()\n",
    "lt = (m_next - m_prev) / m_prev\n",
    "eth_book['SmoothedPriceMove'] = 0\n",
    "eth_book.loc[lt > alpha, 'SmoothedPriceMove'] = 1\n",
    "eth_book.loc[lt < -alpha, 'SmoothedPriceMove'] = -1"
   ]
  },
  {
   "cell_type": "code",
   "execution_count": 42,
   "metadata": {},
   "outputs": [
    {
     "data": {
      "image/png": "[encoded data removed]",
      "text/plain": [
       "<Figure size 600x300 with 2 Axes>"
      ]
     },
     "metadata": {},
     "output_type": "display_data"
    }
   ],
   "source": [
    "# Difference between price and smoohted price distirbution to handle imblanace and signal-to-noise \n",
    "fig, ax = plt.subplots(1, 2, figsize=(6, 3))\n",
    "\n",
    "ax[0].hist(eth_book['PriceMove'], bins=3, color='skyblue', edgecolor='black')\n",
    "ax[0].set_title('Pre-Smoothed Pirce Distribution')\n",
    "ax[0].set_xticks([-1, 0, 1], labels=['Down', 'Stationary', 'Up'])\n",
    "ax[0].grid(alpha=0.35)\n",
    "\n",
    "ax[1].hist(eth_book['SmoothedPriceMove'], bins=3, color='skyblue', edgecolor='black')\n",
    "ax[1].set_title('Smoothed Price Distribution')\n",
    "ax[1].set_xticks([-1, 0, 1], labels=['Down', 'Stationary', 'Up'])\n",
    "ax[1].grid(alpha=0.35)\n",
    "\n",
    "plt.tight_layout()\n",
    "plt.show()"
   ]
  },
  {
   "cell_type": "markdown",
   "metadata": {},
   "source": [
    "#### Feature Selection and Data Splitting\n",
    "\n",
    "We select relevant features and remove the lookahead period. We then split the dataset into training and testing sets. Finally, we scale the features for stable training."
   ]
  },
  {
   "cell_type": "code",
   "execution_count": 44,
   "metadata": {},
   "outputs": [],
   "source": [
    "# Target column remains the same\n",
    "target_col = 'SmoothedPriceMove'\n",
    "\n",
    "# Include all price, volume, and order features for 10 levels\n",
    "feature_cols = []\n",
    "for level in range(1, LOB_LEVELS + 1):\n",
    "    feature_cols.extend([\n",
    "        f'BidPrice_{level}', f'AskPrice_{level}',  # Prices\n",
    "        f'BidVolume_{level}', f'AskVolume_{level}',  # Volumes\n",
    "        f'BidOrders_{level}', f'AskOrders_{level}'  # Order counts\n",
    "    ])\n",
    "\n",
    "# Add derived features\n",
    "feature_cols.extend([\n",
    "    'Imbalance_Total', 'BidArrivalRate', 'AskArrivalRate',\n",
    "    'TradeVolume_Buy', 'TradeVolume_Sell',\n",
    "    'NumTrades_Buy', 'NumTrades_Sell',\n",
    "    'BinanceLargeTradeCount', 'Spread', 'RelativeSpread',\n",
    "    'Microprice', 'VWAP', 'Lagged_BinanceTotalVolume',\n",
    "    'Lagged_BinanceLargeTradeCount'\n",
    "])\n",
    "\n",
    "# Add rolling and flag features from Binance data\n",
    "for w in window_sizes:\n",
    "    feature_cols.append(f'BinanceTotalVolume_rollingSum_{w}')\n",
    "    feature_cols.append(f'BinanceLargeTradeCount_rollingSum_{w}')\n",
    "    feature_cols.append(f'LargeTrade_flag_{w}')\n",
    "\n",
    "# Select features for the model\n",
    "X = eth_book[feature_cols].copy()\n",
    "y = eth_book[target_col].copy()"
   ]
  },
  {
   "cell_type": "code",
   "execution_count": 46,
   "metadata": {},
   "outputs": [],
   "source": [
    "# Remove lookahead bias\n",
    "PREDICTION_HORIZON = 10\n",
    "X = X.iloc[:-PREDICTION_HORIZON]\n",
    "y = y.iloc[:-PREDICTION_HORIZON]\n",
    "\n",
    "train_size = int(0.8 * len(X))\n",
    "X_train_raw, X_test_raw = X.iloc[:train_size], X.iloc[train_size:]\n",
    "y_train, y_test = y.iloc[:train_size], y.iloc[train_size:]\n",
    "\n",
    "scaler = StandardScaler()\n",
    "X_train_scaled = scaler.fit_transform(X_train_raw)\n",
    "X_test_scaled = scaler.transform(X_test_raw)\n",
    "\n",
    "unique_labels = sorted(y_train.unique())\n",
    "label_map = {val: idx for idx, val in enumerate(unique_labels)}\n",
    "inv_label_map = {v: k for k, v in label_map.items()}\n",
    "\n",
    "y_train_mapped = y_train.map(label_map).values\n",
    "y_test_mapped = y_test.map(label_map).values"
   ]
  },
  {
   "cell_type": "markdown",
   "metadata": {},
   "source": [
    "#### Preparing the Data for the Model\n",
    "\n",
    "We define a `SequenceDataset` that returns windows of data (`WINDOW_SIZE` timesteps) and the label at the end of the window. This aligns with how we train recurrent models (like LSTMs) that process sequences.\n"
   ]
  },
  {
   "cell_type": "code",
   "execution_count": 47,
   "metadata": {},
   "outputs": [],
   "source": [
    "WINDOW_SIZE = 100\n",
    "BATCH_SIZE = 256\n",
    "EPOCHS = 10\n",
    "num_classes = len(unique_labels)\n",
    "\n",
    "class SequenceDataset(Dataset):\n",
    "    def __init__(self, X, y, window_size=100):\n",
    "        self.X = X\n",
    "        self.y = y\n",
    "        self.window_size = window_size\n",
    "        \n",
    "    def __len__(self):\n",
    "        return len(self.X) - self.window_size\n",
    "    \n",
    "    def __getitem__(self, idx):\n",
    "        X_seq = self.X[idx:idx+self.window_size]  # (window_size, features)\n",
    "        y_label = self.y[idx+self.window_size-1]  # Label at the end of sequence\n",
    "        return torch.tensor(X_seq, dtype=torch.float32), torch.tensor(y_label, dtype=torch.long)\n",
    "\n",
    "train_dataset = SequenceDataset(X_train_scaled, y_train_mapped, window_size=WINDOW_SIZE)\n",
    "test_dataset = SequenceDataset(X_test_scaled, y_test_mapped, window_size=WINDOW_SIZE)\n",
    "\n",
    "train_loader = DataLoader(train_dataset, batch_size=BATCH_SIZE, shuffle=True, drop_last=True)\n",
    "test_loader = DataLoader(test_dataset, batch_size=BATCH_SIZE, shuffle=False, drop_last=True)"
   ]
  },
  {
   "cell_type": "markdown",
   "metadata": {},
   "source": [
    "#### Defining the DeepLOB Model in PyTorch\n",
    "\n",
    "- **Convolution layers:** Extract local patterns in LOB features.\n",
    "- **Inception modules:** Identify patterns at multiple scales simultaneously.\n",
    "- **LSTM layer:** Capture temporal evolution of these features over time.\n",
    "- **Final layer:** Output class probabilities (up, down, stationary).\n",
    "\n",
    "We use `LeakyReLU` activations and `Conv1d` layers. After convolution and inception steps, we run the features through an LSTM, then a final FC (fully connected) layer."
   ]
  },
  {
   "cell_type": "code",
   "execution_count": 48,
   "metadata": {},
   "outputs": [],
   "source": [
    "class InceptionModule(nn.Module):\n",
    "    def __init__(self, in_channels, num_filters=32):\n",
    "        super(InceptionModule, self).__init__()\n",
    "        self.conv1 = nn.Conv1d(in_channels, num_filters, kernel_size=1, padding=0)\n",
    "        self.conv3 = nn.Conv1d(in_channels, num_filters, kernel_size=3, padding=1)\n",
    "        self.conv5 = nn.Conv1d(in_channels, num_filters, kernel_size=5, padding=2)\n",
    "        self.pool = nn.MaxPool1d(kernel_size=3, stride=1, padding=1)\n",
    "        self.convpool = nn.Conv1d(in_channels, num_filters, kernel_size=1, padding=0)\n",
    "        self.leaky_relu = nn.LeakyReLU(0.01)\n",
    "\n",
    "    def forward(self, x):\n",
    "        c1 = self.leaky_relu(self.conv1(x))\n",
    "        c3 = self.leaky_relu(self.conv3(x))\n",
    "        c5 = self.leaky_relu(self.conv5(x))\n",
    "        mp = self.pool(x)\n",
    "        mp = self.leaky_relu(self.convpool(mp))\n",
    "        out = torch.cat([c1, c3, c5, mp], dim=1)\n",
    "        return out\n",
    "\n",
    "class DeepLOBModel(nn.Module):\n",
    "    def __init__(self, input_features, num_classes, window_size=100):\n",
    "        super(DeepLOBModel, self).__init__()\n",
    "        self.leaky_relu = nn.LeakyReLU(0.01)\n",
    "\n",
    "        # Initial convolutions to reduce and reorganize features\n",
    "        self.conv1 = nn.Conv1d(input_features, 16, kernel_size=2, stride=2, padding=0)\n",
    "        self.conv2 = nn.Conv1d(16, 16, kernel_size=2, stride=2, padding=0)\n",
    "        self.conv3 = nn.Conv1d(16, 16, kernel_size=10, stride=1, padding=5)  # \"same\" padding\n",
    "\n",
    "        # Inception modules to capture multi-scale temporal features\n",
    "        self.inception1 = InceptionModule(in_channels=16, num_filters=32)\n",
    "        self.inception2 = InceptionModule(in_channels=128, num_filters=32)  # 128 after first inception\n",
    "\n",
    "        # LSTM to model temporal dependencies\n",
    "        self.lstm = nn.LSTM(input_size=128, hidden_size=64, batch_first=True)\n",
    "        self.fc = nn.Linear(64, num_classes)\n",
    "        \n",
    "    def forward(self, x):\n",
    "        # x: (batch, window_size, features)\n",
    "        x = x.transpose(1, 2)  # (batch, features, window_size)\n",
    "        x = self.leaky_relu(self.conv1(x))\n",
    "        x = self.leaky_relu(self.conv2(x))\n",
    "        x = self.leaky_relu(self.conv3(x))\n",
    "        \n",
    "        x = self.inception1(x)\n",
    "        x = self.inception2(x)\n",
    "\n",
    "        x = x.transpose(1, 2)  # (batch, length, channels)\n",
    "        _, (h, _) = self.lstm(x)\n",
    "        h = h[-1]  # final hidden state\n",
    "        out = self.fc(h)\n",
    "        return F.log_softmax(out, dim=-1)"
   ]
  },
  {
   "cell_type": "markdown",
   "metadata": {},
   "source": [
    "#### Training the Model\n",
    "\n",
    "We use the Adam optimizer and NLLLoss for classification. We implement early stopping to avoid overfitting. Each epoch:\n",
    "- We train on the training set.\n",
    "- Validate on the test set.\n",
    "- If no improvement for a set number of epochs, we stop.\n",
    "\n",
    "We print training/validation metrics at each epoch."
   ]
  },
  {
   "cell_type": "code",
   "execution_count": 49,
   "metadata": {},
   "outputs": [
    {
     "name": "stdout",
     "output_type": "stream",
     "text": [
      "Epoch 1/10, Train Loss: 0.5043, Train Acc: 0.8079, Val Loss: 0.5658, Val Acc: 0.7739\n",
      "Epoch 2/10, Train Loss: 0.4753, Train Acc: 0.8206, Val Loss: 0.5906, Val Acc: 0.7663\n",
      "Epoch 3/10, Train Loss: 0.4666, Train Acc: 0.8239, Val Loss: 0.5429, Val Acc: 0.7862\n",
      "Epoch 4/10, Train Loss: 0.4604, Train Acc: 0.8266, Val Loss: 0.5443, Val Acc: 0.7859\n",
      "Epoch 5/10, Train Loss: 0.4549, Train Acc: 0.8282, Val Loss: 0.5443, Val Acc: 0.7877\n",
      "Epoch 6/10, Train Loss: 0.4497, Train Acc: 0.8295, Val Loss: 0.5563, Val Acc: 0.7830\n",
      "Epoch 7/10, Train Loss: 0.4450, Train Acc: 0.8313, Val Loss: 0.5514, Val Acc: 0.7840\n",
      "Epoch 8/10, Train Loss: 0.4410, Train Acc: 0.8323, Val Loss: 0.5538, Val Acc: 0.7856\n",
      "Epoch 9/10, Train Loss: 0.4374, Train Acc: 0.8333, Val Loss: 0.5574, Val Acc: 0.7802\n",
      "Epoch 10/10, Train Loss: 0.4340, Train Acc: 0.8343, Val Loss: 0.5659, Val Acc: 0.7785\n",
      "No improvement in validation accuracy for several epochs, stopping early.\n"
     ]
    },
    {
     "data": {
      "text/plain": [
       "<All keys matched successfully>"
      ]
     },
     "execution_count": 49,
     "metadata": {},
     "output_type": "execute_result"
    }
   ],
   "source": [
    "device = torch.device('cuda' if torch.cuda.is_available() else 'cpu')\n",
    "model = DeepLOBModel(input_features=X_train_scaled.shape[1], num_classes=num_classes).to(device)\n",
    "optimizer = optim.Adam(model.parameters(), lr=0.001)\n",
    "criterion = nn.NLLLoss()\n",
    "\n",
    "best_val_acc = 0.0\n",
    "patience = 5\n",
    "no_improve_epochs = 0\n",
    "\n",
    "for epoch in range(EPOCHS):\n",
    "    model.train()\n",
    "    train_loss = 0.0\n",
    "    correct = 0\n",
    "    total = 0\n",
    "    for Xb, yb in train_loader:\n",
    "        Xb, yb = Xb.to(device), yb.to(device)\n",
    "        optimizer.zero_grad()\n",
    "        out = model(Xb)\n",
    "        loss = criterion(out, yb)\n",
    "        loss.backward()\n",
    "        optimizer.step()\n",
    "        train_loss += loss.item() * Xb.size(0)\n",
    "        pred = out.argmax(dim=1)\n",
    "        correct += (pred == yb).sum().item()\n",
    "        total += Xb.size(0)\n",
    "\n",
    "    train_acc = correct / total\n",
    "    train_loss = train_loss / total\n",
    "\n",
    "    # Validation\n",
    "    model.eval()\n",
    "    val_loss = 0.0\n",
    "    correct_val = 0\n",
    "    total_val = 0\n",
    "    with torch.no_grad():\n",
    "        for Xb, yb in test_loader:\n",
    "            Xb, yb = Xb.to(device), yb.to(device)\n",
    "            out = model(Xb)\n",
    "            loss = criterion(out, yb)\n",
    "            val_loss += loss.item() * Xb.size(0)\n",
    "            pred = out.argmax(dim=1)\n",
    "            correct_val += (pred == yb).sum().item()\n",
    "            total_val += Xb.size(0)\n",
    "\n",
    "    val_acc = correct_val / total_val\n",
    "    val_loss = val_loss / total_val\n",
    "\n",
    "    print(f\"Epoch {epoch+1}/{EPOCHS}, Train Loss: {train_loss:.4f}, Train Acc: {train_acc:.4f}, \"\n",
    "          f\"Val Loss: {val_loss:.4f}, Val Acc: {val_acc:.4f}\")\n",
    "\n",
    "    if val_acc > best_val_acc:\n",
    "        best_val_acc = val_acc\n",
    "        no_improve_epochs = 0\n",
    "        best_model_state = model.state_dict()\n",
    "    else:\n",
    "        no_improve_epochs += 1\n",
    "        if no_improve_epochs >= patience:\n",
    "            print(\"No improvement in validation accuracy for several epochs, stopping early.\")\n",
    "            break\n",
    "        \n",
    "model.load_state_dict(best_model_state)"
   ]
  },
  {
   "cell_type": "markdown",
   "metadata": {},
   "source": [
    "#### Evaluation\n",
    "\n",
    "We measure performance on the test set, generate a classification report and a confusion matrix. This helps us understand how well the model predicts different classes (e.g., price going up, staying the same, or going down)."
   ]
  },
  {
   "cell_type": "code",
   "execution_count": 50,
   "metadata": {},
   "outputs": [
    {
     "name": "stdout",
     "output_type": "stream",
     "text": [
      "PyTorch DeepLOB Model Classification Report:\n",
      "              precision    recall  f1-score   support\n",
      "\n",
      "          -1     0.8009    0.6714    0.7304    111229\n",
      "           0     0.7482    0.9113    0.8217    218970\n",
      "           1     0.8510    0.6264    0.7216    112681\n",
      "\n",
      "    accuracy                         0.7785    442880\n",
      "   macro avg     0.8000    0.7363    0.7579    442880\n",
      "weighted avg     0.7876    0.7785    0.7733    442880\n",
      "\n"
     ]
    },
    {
     "data": {
      "image/png": "[encoded data removed]",
      "text/plain": [
       "<Figure size 600x400 with 2 Axes>"
      ]
     },
     "metadata": {},
     "output_type": "display_data"
    },
    {
     "name": "stdout",
     "output_type": "stream",
     "text": [
      "PyTorch DeepLOB Model Accuracy: 0.7785\n"
     ]
    }
   ],
   "source": [
    "# Evaluation on test set\n",
    "model.eval()\n",
    "all_preds = []\n",
    "all_targets = []\n",
    "with torch.no_grad():\n",
    "    for Xb, yb in test_loader:\n",
    "        Xb, yb = Xb.to(device), yb.to(device)\n",
    "        out = model(Xb)\n",
    "        preds = out.argmax(dim=1).cpu().numpy()\n",
    "        targets = yb.cpu().numpy()\n",
    "        all_preds.append(preds)\n",
    "        all_targets.append(targets)\n",
    "all_preds = np.concatenate(all_preds)\n",
    "all_targets = np.concatenate(all_targets)\n",
    "\n",
    "y_pred_original = np.array([inv_label_map[val] for val in all_preds])\n",
    "y_true_original = np.array([inv_label_map[val] for val in all_targets])\n",
    "\n",
    "acc = accuracy_score(y_true_original, y_pred_original)\n",
    "print(\"PyTorch DeepLOB Model Classification Report:\")\n",
    "print(classification_report(y_true_original, y_pred_original, digits=4))\n",
    "\n",
    "conf = confusion_matrix(y_true_original, y_pred_original)\n",
    "plt.figure(figsize=(6,4))\n",
    "sns.heatmap(conf, annot=True, fmt='d', cmap='flare', \n",
    "            xticklabels=unique_labels, yticklabels=unique_labels)\n",
    "plt.xlabel('Predicted')\n",
    "plt.ylabel('Actual')\n",
    "plt.title('Confusion Matrix for PyTorch DeepLOB Model')\n",
    "plt.show()\n",
    "\n",
    "print(f\"PyTorch DeepLOB Model Accuracy: {acc:.4f}\")"
   ]
  },
  {
   "cell_type": "markdown",
   "metadata": {},
   "source": [
    "#### Saving the Model and Scaler\n",
    "Finally, we save the trained model parameters and the scaler so we can reuse them later for inference or further training."
   ]
  },
  {
   "cell_type": "code",
   "execution_count": 51,
   "metadata": {},
   "outputs": [
    {
     "data": {
      "text/plain": [
       "['scaler_deeplob.joblib']"
      ]
     },
     "execution_count": 51,
     "metadata": {},
     "output_type": "execute_result"
    }
   ],
   "source": [
    "# Save model and scaler\n",
    "torch.save(model.state_dict(), 'deeplob_pytorch_model.pt')\n",
    "joblib.dump(scaler, 'scaler_deeplob.joblib')"
   ]
  },
  {
   "cell_type": "markdown",
   "metadata": {},
   "source": [
    "### **Conclusion**\n",
    "\n",
    "- We successfully built a DeepLOB-inspired model in PyTorch.\n",
    "- We engineered a wide range of features from the LOB and trades data.\n",
    "- The model uses convolutions and inception modules to handle local and multi-scale patterns, then an LSTM to handle temporal dynamics.\n",
    "- The final results show decent predictive performance, demonstrating the model's ability to learn from complex, noisy financial data."
   ]
  }
 ],
 "metadata": {
  "kernelspec": {
   "display_name": "stats",
   "language": "python",
   "name": "python3"
  },
  "language_info": {
   "codemirror_mode": {
    "name": "ipython",
    "version": 3
   },
   "file_extension": ".py",
   "mimetype": "text/x-python",
   "name": "python",
   "nbconvert_exporter": "python",
   "pygments_lexer": "ipython3",
   "version": "3.12.1"
  }
 },
 "nbformat": 4,
 "nbformat_minor": 2
}
